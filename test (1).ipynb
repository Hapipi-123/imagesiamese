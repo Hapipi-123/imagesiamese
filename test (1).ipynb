{
 "cells": [
  {
   "cell_type": "code",
   "execution_count": 4,
   "id": "technical-festival",
   "metadata": {},
   "outputs": [],
   "source": [
    "#不用bast64\n",
    "import tensorflow as tf\n",
    "import json\n",
    "import requests\n",
    "import base64"
   ]
  },
  {
   "cell_type": "code",
   "execution_count": 107,
   "id": "parliamentary-arlington",
   "metadata": {},
   "outputs": [],
   "source": [
    "target_shape = (224, 224)\n",
    "image1_string = tf.io.read_file('/home/data_ming/imagesiamese/picture/16TMnFXAbzG.jpeg')\n",
    "image1 = tf.image.decode_jpeg(image1_string, channels=3)\n",
    "image1 = tf.image.convert_image_dtype(image1, tf.float32)\n",
    "image1 = tf.image.resize(image1, target_shape)\n",
    "image1 = image1.numpy()\n",
    "image1_data_list = image1.tolist()"
   ]
  },
  {
   "cell_type": "code",
   "execution_count": 108,
   "id": "phantom-mozambique",
   "metadata": {},
   "outputs": [],
   "source": [
    "image2_string = tf.io.read_file('/home/data_ming/imagesiamese/picture/16TMnGO5Rba.jpeg')\n",
    "image2 = tf.image.decode_jpeg(image2_string, channels=3)\n",
    "image2 = tf.image.convert_image_dtype(image2, tf.float32)\n",
    "image2 = tf.image.resize(image2, target_shape)\n",
    "image2 = image2.numpy()\n",
    "image2_data_list = image2.tolist()"
   ]
  },
  {
   "cell_type": "code",
   "execution_count": 109,
   "id": "satisfied-california",
   "metadata": {},
   "outputs": [],
   "source": [
    "data = json.dumps({\n",
    "    'instances':[{\n",
    "        'inputimage_1':image1_data_list,\n",
    "        'inputimage_2':image2_data_list,\n",
    "    }]\n",
    "})"
   ]
  },
  {
   "cell_type": "code",
   "execution_count": 110,
   "id": "expired-europe",
   "metadata": {},
   "outputs": [],
   "source": [
    "imagesiamese224_v4_url_ = \"http://tfserver-imagesiamese224.algorithm.svc.datacloud.17usoft.com:8501/v1/models/imagesiamese224:predict\""
   ]
  },
  {
   "cell_type": "code",
   "execution_count": 111,
   "id": "structural-meter",
   "metadata": {},
   "outputs": [],
   "source": [
    "imagesiamese224v4_url__resp = requests.post(imagesiamese224_v4_url_,data=data)"
   ]
  },
  {
   "cell_type": "code",
   "execution_count": 112,
   "id": "verified-package",
   "metadata": {},
   "outputs": [
    {
     "data": {
      "text/plain": [
       "{'predictions': [[0.0567344427]]}"
      ]
     },
     "execution_count": 112,
     "metadata": {},
     "output_type": "execute_result"
    }
   ],
   "source": [
    "json.loads(imagesiamese224v4_url__resp.content)"
   ]
  },
  {
   "cell_type": "code",
   "execution_count": null,
   "id": "compatible-german",
   "metadata": {},
   "outputs": [],
   "source": [
    "http://pic5.40017.cn/i/ori/15tGte0c57q.png http://pic5.40017.cn/i/ori/15tGteUGh4k.png"
   ]
  },
  {
   "cell_type": "code",
   "execution_count": 218,
   "id": "rental-keeping",
   "metadata": {},
   "outputs": [],
   "source": [
    "#base64\"imageUrl1\": \"http://pic5.40017.cn/i/ori/15QNZDRsiuA.jpg\",\n",
    "    \"imageUrl2\": \"http://pic5.40017.cn/i/ori/15QNZFBT6jm.jpg\", "
   ]
  },
  {
   "cell_type": "code",
   "execution_count": 24,
   "id": "proper-software",
   "metadata": {},
   "outputs": [],
   "source": [
    "import tensorflow as tf\n",
    "import json\n",
    "import requests\n",
    "import base64 \n"
   ]
  },
  {
   "cell_type": "code",
   "execution_count": 25,
   "id": "discrete-feeding",
   "metadata": {},
   "outputs": [],
   "source": [
    "image1_URL ='http://pic5.40017.cn/i/ori/15f1EYbaePe.jpg'\n",
    "image2_URL = 'http://pic5.40017.cn/i/ori/15f1EPeNBF6.jpg' "
   ]
  },
  {
   "cell_type": "code",
   "execution_count": 26,
   "id": "color-lewis",
   "metadata": {},
   "outputs": [],
   "source": [
    "dl_request_1 = requests.get(image1_URL,stream=True)\n",
    "jpeg_bytes_1 = base64.b64encode(dl_request_1.content).decode('utf-8')"
   ]
  },
  {
   "cell_type": "code",
   "execution_count": 27,
   "id": "incredible-collectible",
   "metadata": {},
   "outputs": [],
   "source": [
    "dl_request_2 = requests.get(image2_URL,stream=True)\n",
    "jpeg_bytes_2 = base64.b64encode(dl_request_2.content).decode('utf-8')"
   ]
  },
  {
   "cell_type": "code",
   "execution_count": 28,
   "id": "graphic-capitol",
   "metadata": {},
   "outputs": [],
   "source": [
    "data = json.dumps(\n",
    "    {\n",
    "        'instances':[\n",
    "            {'b64_input_bytes':{'b64':jpeg_bytes_1}},\n",
    "            {'b64_input_bytes':{'b64':jpeg_bytes_2}},\n",
    "        ]\n",
    "    }\n",
    ")"
   ]
  },
  {
   "cell_type": "code",
   "execution_count": 29,
   "id": "developed-doubt",
   "metadata": {},
   "outputs": [],
   "source": [
    "basenew350_url = \"http://tfserver-imagesiamese350base64.algorithm.svc.datacloud.17usoft.com:8501/v1/models/imagesiamese350base64:predict\"\n",
    "base_urlnew350__resp = requests.post(basenew350_url,data=data)"
   ]
  },
  {
   "cell_type": "code",
   "execution_count": 30,
   "id": "acknowledged-keeping",
   "metadata": {},
   "outputs": [
    {
     "data": {
      "text/plain": [
       "{'predictions': [[0.951129675]]}"
      ]
     },
     "execution_count": 30,
     "metadata": {},
     "output_type": "execute_result"
    }
   ],
   "source": [
    "json.loads(base_urlnew350__resp.content)"
   ]
  },
  {
   "cell_type": "code",
   "execution_count": 31,
   "id": "tracked-nashville",
   "metadata": {},
   "outputs": [
    {
     "name": "stdout",
     "output_type": "stream",
     "text": [
      "0\n"
     ]
    }
   ],
   "source": [
    "print('0')"
   ]
  },
  {
   "cell_type": "code",
   "execution_count": null,
   "id": "alien-longitude",
   "metadata": {},
   "outputs": [],
   "source": []
  },
  {
   "cell_type": "code",
   "execution_count": null,
   "id": "interior-prevention",
   "metadata": {},
   "outputs": [],
   "source": []
  },
  {
   "cell_type": "code",
   "execution_count": null,
   "id": "subtle-finance",
   "metadata": {},
   "outputs": [],
   "source": []
  },
  {
   "cell_type": "code",
   "execution_count": null,
   "id": "enhanced-magazine",
   "metadata": {},
   "outputs": [],
   "source": []
  },
  {
   "cell_type": "code",
   "execution_count": null,
   "id": "adult-reference",
   "metadata": {},
   "outputs": [],
   "source": []
  },
  {
   "cell_type": "code",
   "execution_count": 393,
   "id": "vanilla-match",
   "metadata": {},
   "outputs": [],
   "source": [
    "basenew400_url = \"http://tfserver-new400imagesimilaritybase64.algorithm.svc.datacloud.17usoft.com:8501/v1/models/new400imagesimilaritybase64:predict\"\n",
    "base_urlnew400__resp = requests.post(basenew400_url,data=data)"
   ]
  },
  {
   "cell_type": "code",
   "execution_count": 394,
   "id": "loving-network",
   "metadata": {},
   "outputs": [
    {
     "data": {
      "text/plain": [
       "{'error': \"Batched output tensor's 0th dimension does not equal the sum of the 0th dimension sizes of the input tensors\"}"
      ]
     },
     "execution_count": 394,
     "metadata": {},
     "output_type": "execute_result"
    }
   ],
   "source": [
    "json.loads(base_urlnew400__resp.content)"
   ]
  },
  {
   "cell_type": "code",
   "execution_count": null,
   "id": "uniform-investment",
   "metadata": {},
   "outputs": [],
   "source": []
  },
  {
   "cell_type": "code",
   "execution_count": 398,
   "id": "temporal-howard",
   "metadata": {},
   "outputs": [],
   "source": [
    "basetest350_url = \"http://tfserver-new350imagesimilaritybase64.algorithm.svc.datacloud.17usoft.com:8501/v1/models/new350imagesimilaritybase64:predict\"\n",
    "base_urltest350__resp = requests.post(basetest350_url,data=data)"
   ]
  },
  {
   "cell_type": "code",
   "execution_count": 399,
   "id": "czech-birthday",
   "metadata": {},
   "outputs": [
    {
     "data": {
      "text/plain": [
       "{'error': \"Batched output tensor's 0th dimension does not equal the sum of the 0th dimension sizes of the input tensors\"}"
      ]
     },
     "execution_count": 399,
     "metadata": {},
     "output_type": "execute_result"
    }
   ],
   "source": [
    "json.loads(base_urltest350__resp.content)"
   ]
  },
  {
   "cell_type": "code",
   "execution_count": 397,
   "id": "destroyed-islam",
   "metadata": {},
   "outputs": [],
   "source": [
    "basetest4000_url = \"http://tfserver-imagesiamese350base64.algorithm.svc.datacloud.17usoft.com:8501/v1/models/imagesiamese350base64:predict\"\n",
    "base_urltest350__resp = requests.post(basetest350_url,data=data)"
   ]
  },
  {
   "cell_type": "code",
   "execution_count": null,
   "id": "promising-championship",
   "metadata": {},
   "outputs": [],
   "source": []
  },
  {
   "cell_type": "code",
   "execution_count": null,
   "id": "veterinary-garage",
   "metadata": {},
   "outputs": [],
   "source": []
  },
  {
   "cell_type": "code",
   "execution_count": null,
   "id": "hairy-update",
   "metadata": {},
   "outputs": [],
   "source": []
  },
  {
   "cell_type": "code",
   "execution_count": null,
   "id": "smoking-greensboro",
   "metadata": {},
   "outputs": [],
   "source": []
  },
  {
   "cell_type": "code",
   "execution_count": null,
   "id": "metric-humidity",
   "metadata": {},
   "outputs": [],
   "source": []
  }
 ],
 "metadata": {
  "kernelspec": {
   "display_name": "PySpark",
   "language": "python",
   "name": "pyspark"
  },
  "language_info": {
   "codemirror_mode": {
    "name": "ipython",
    "version": 3
   },
   "file_extension": ".py",
   "mimetype": "text/x-python",
   "name": "python",
   "nbconvert_exporter": "python",
   "pygments_lexer": "ipython3",
   "version": "3.7.10"
  }
 },
 "nbformat": 4,
 "nbformat_minor": 5
}
