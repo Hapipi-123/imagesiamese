{
 "cells": [
  {
   "cell_type": "code",
   "execution_count": 3,
   "id": "operational-geometry",
   "metadata": {},
   "outputs": [],
   "source": [
    "import pandas as pd\n",
    "import os \n",
    "from PIL import Image\n",
    "from PIL import ImageFile\n",
    "ImageFile.LOAD_TRUNCATED_IMAGES = True\n",
    "import random\n",
    "import numpy as np\n",
    "from sklearn.utils import shuffle"
   ]
  },
  {
   "cell_type": "code",
   "execution_count": 28,
   "id": "centered-hampshire",
   "metadata": {},
   "outputs": [
    {
     "data": {
      "text/plain": [
       "2277"
      ]
     },
     "execution_count": 28,
     "metadata": {},
     "output_type": "execute_result"
    }
   ],
   "source": [
    "original_image_path = \"/home/data_ming/imagesiamese/picture\"\n",
    "crop_path = \"/home/data_ming/imagesiamese/crop/\"\n",
    "original_images = os.listdir(original_image_path)\n",
    "len(original_images)"
   ]
  },
  {
   "cell_type": "code",
   "execution_count": 29,
   "id": "incredible-success",
   "metadata": {},
   "outputs": [],
   "source": [
    "if 'ipynb_checkpoints' in original_images:\n",
    "    original_images.remove('.ipynb_checkpoints')"
   ]
  },
  {
   "cell_type": "code",
   "execution_count": null,
   "id": "biblical-diesel",
   "metadata": {},
   "outputs": [],
   "source": [
    "len(original_images)"
   ]
  },
  {
   "cell_type": "code",
   "execution_count": null,
   "id": "educational-psychology",
   "metadata": {},
   "outputs": [],
   "source": [
    "# i = 0\n",
    "# for image_name in original_images:\n",
    "#     if 'gif' not in image_name:\n",
    "#         i = i+1\n",
    "#         image_path = original_image_path + '/' + image_name\n",
    "#         image = Image.open(image_path)        \n",
    "#         width, height = image.size\n",
    "#         start = random.uniform(0.1, 0.2)\n",
    "#         end  = random.uniform(0.6, 0.8)\n",
    "#         image_name_head,image_name_tail = image_name.split('.')\n",
    "#         try:\n",
    "#             vertical_image = image.crop((int(width*start), 0, int(width*(1-start)), height))\n",
    "#              #vertical_image = vertical_image.resize(target_shape)\n",
    "#             vertical_image.save(crop_path+image_name_head+'_h.'+image_name_tail)\n",
    "#             horizontal_image = image.crop((0, int(height*start), width, int(height*(1-start))))\n",
    "#              #horizontal_image = horizontal_image.resize(target_shape)\n",
    "#             horizontal_image.save(crop_path+image_name_head+'_v.'+image_name_tail)\n",
    "#             crop_image = image.crop((int(width*start), int(height*start), int(width*end), int(height*end)))\n",
    "#              #crop_image = crop_image.resize(target_shape)\n",
    "#             crop_image.save(crop_path+image_name_head+'_r.'+image_name_tail)\n",
    "            \n",
    "#         except:\n",
    "#             print(original_image_path)\n",
    "#             pass\n",
    "#         if i%50 == 0:\n",
    "#             print(image_path)"
   ]
  },
  {
   "cell_type": "code",
   "execution_count": 33,
   "id": "frequent-cyprus",
   "metadata": {},
   "outputs": [
    {
     "data": {
      "text/plain": [
       "6333"
      ]
     },
     "execution_count": 33,
     "metadata": {},
     "output_type": "execute_result"
    }
   ],
   "source": [
    "crop_path = \"/home/data_ming/imagesiamese/crop/\"\n",
    "crop_image = os.listdir(crop_path)\n",
    "len(crop_image)"
   ]
  },
  {
   "cell_type": "code",
   "execution_count": null,
   "id": "recovered-transcript",
   "metadata": {},
   "outputs": [],
   "source": [
    "pair_image_dataset = []\n",
    "#随机数据配对\n",
    "for image_name in original_images:\n",
    "    base_image_path = '/home/data_ming/imagesiamese/picture'+image_name\n",
    "    image_name_head,image_name_tail = image_name.split('.')\n",
    "    crop_image_h_path = '/home/data_ming/imagesiamese/crop/'+image_name_head+'_h.'+image_name_tail\n",
    "    crop_image_v_path = '/home/data_ming/imagesiamese/crop/'+image_name_head+'_v.'+image_name_tail\n",
    "    crop_image_r_path = '/home/data_ming/imagesiamese/crop/'+image_name_head+'_r.'+image_name_tail\n",
    "    \n",
    "    if os.path.exists(crop_image_h_path):\n",
    "        pair_image_dataset.append([base_image_path,crop_image_h_path,1.0])\n",
    "        pair_image_dataset.append([base_image_path,crop_image_v_path,1.0])\n",
    "        pair_image_dataset.append([base_image_path,crop_image_r_path,1.0])  \n",
    "        pair_image_dataset.append([base_image_path,crop_image_v_path,1.0])\n",
    "        pair_image_dataset.append([base_image_path,crop_image_v_path,1.0])\n",
    "        pair_image_dataset.append([base_image_path,crop_image_h_path,1.0])\n",
    "        \n",
    "        #随机负采样\n",
    "        sampled_neg_images = [ random.choice(original_image_path) for x in range(3) ]\n",
    "        for neg_image in sampled_neg_images:\n",
    "            if neg_image != image_name :\n",
    "                pair_image_dataset.append([original_image_path,original_image_path+neg_image,0.0])\n",
    "        sampled_neg_crop_images = [ random.choice(crop_path) for x in range(3) ]\n",
    "        for neg_crop_image in sampled_neg_crop_images:\n",
    "            if neg_crop_image.split('_')[0] != image_name.split('.')[0]:\n",
    "                pair_image_dataset.append([original_image_path,crop_path+neg_crop_image,0.0])"
   ]
  },
  {
   "cell_type": "code",
   "execution_count": null,
   "id": "written-darkness",
   "metadata": {},
   "outputs": [],
   "source": [
    "# len(pair_image_dataset)\n",
    "# print(pair_image_dataset)"
   ]
  },
  {
   "cell_type": "code",
   "execution_count": null,
   "id": "placed-romania",
   "metadata": {},
   "outputs": [],
   "source": [
    "import pandas as pd\n",
    "df=pd.read_excel('/home/data_ming/imagesiamese/add_image_data.xlsx')\n",
    "for idx,row in df.iterrows():\n",
    "    base_name = row['A']\n",
    "    base_image = '/home/data_ming/imagesiamese/picture/' + base_name\n",
    "    pair_name = row['B']\n",
    "    pair_image = '/home/data_ming/imagesiamese/picture/' + pair_name\n",
    "    label = float(row['lable'])\n",
    "    #print(base_image,pair_image,label)\n",
    "    pair_image_dataset.append([base_image,pair_image,label])"
   ]
  },
  {
   "cell_type": "code",
   "execution_count": 62,
   "id": "common-morris",
   "metadata": {},
   "outputs": [
    {
     "data": {
      "text/plain": [
       "25600"
      ]
     },
     "execution_count": 62,
     "metadata": {},
     "output_type": "execute_result"
    }
   ],
   "source": [
    "len(pair_image_dataset)"
   ]
  },
  {
   "cell_type": "code",
   "execution_count": 63,
   "id": "assured-treasury",
   "metadata": {},
   "outputs": [
    {
     "name": "stdout",
     "output_type": "stream",
     "text": [
      "(25600, 3)\n"
     ]
    }
   ],
   "source": [
    "pair_image_dataframe = pd.DataFrame(pair_image_dataset,columns=[\"base_image\",\"pair_image\",\"label\"])\n",
    "pair_image_dataframe = shuffle(pair_image_dataframe)\n",
    "print(pair_image_dataframe.shape)"
   ]
  },
  {
   "cell_type": "code",
   "execution_count": 64,
   "id": "exclusive-charm",
   "metadata": {},
   "outputs": [],
   "source": [
    "pair_image_dataframe.to_csv('./images_350.csv',index=False)"
   ]
  },
  {
   "cell_type": "code",
   "execution_count": null,
   "id": "abroad-adaptation",
   "metadata": {},
   "outputs": [],
   "source": [
    "count = pd.read_csv('./pair_images_all.csv')"
   ]
  },
  {
   "cell_type": "code",
   "execution_count": null,
   "id": "cutting-treat",
   "metadata": {},
   "outputs": [],
   "source": []
  },
  {
   "cell_type": "code",
   "execution_count": 4,
   "id": "cultural-shaft",
   "metadata": {},
   "outputs": [],
   "source": [
    "import pandas as pd\n",
    "import os \n",
    "from PIL import Image\n",
    "from PIL import ImageFile\n",
    "ImageFile.LOAD_TRUNCATED_IMAGES = True\n",
    "import random\n",
    "import numpy as np\n",
    "from sklearn.utils import shuffle"
   ]
  },
  {
   "cell_type": "code",
   "execution_count": 5,
   "id": "dramatic-adolescent",
   "metadata": {},
   "outputs": [],
   "source": [
    "image = pd.read_csv('./images_350.csv',nrows = 50)"
   ]
  },
  {
   "cell_type": "code",
   "execution_count": 6,
   "id": "correct-belfast",
   "metadata": {},
   "outputs": [
    {
     "data": {
      "text/html": [
       "<div>\n",
       "<style scoped>\n",
       "    .dataframe tbody tr th:only-of-type {\n",
       "        vertical-align: middle;\n",
       "    }\n",
       "\n",
       "    .dataframe tbody tr th {\n",
       "        vertical-align: top;\n",
       "    }\n",
       "\n",
       "    .dataframe thead th {\n",
       "        text-align: right;\n",
       "    }\n",
       "</style>\n",
       "<table border=\"1\" class=\"dataframe\">\n",
       "  <thead>\n",
       "    <tr style=\"text-align: right;\">\n",
       "      <th></th>\n",
       "      <th>base_image</th>\n",
       "      <th>pair_image</th>\n",
       "      <th>label</th>\n",
       "    </tr>\n",
       "  </thead>\n",
       "  <tbody>\n",
       "    <tr>\n",
       "      <th>0</th>\n",
       "      <td>/home/data_ming/imagesiamese/picture/16TMnGO5R...</td>\n",
       "      <td>/home/data_ming/imagesiamese/crop/15QTx2zA6Xe_...</td>\n",
       "      <td>0</td>\n",
       "    </tr>\n",
       "    <tr>\n",
       "      <th>1</th>\n",
       "      <td>/home/data_ming/imagesiamese/picture/15QKS1FKm...</td>\n",
       "      <td>/home/data_ming/imagesiamese/crop/15QKS1FKmFW_...</td>\n",
       "      <td>1</td>\n",
       "    </tr>\n",
       "    <tr>\n",
       "      <th>2</th>\n",
       "      <td>/home/data_ming/imagesiamese/picture/15Sv0Oen0...</td>\n",
       "      <td>/home/data_ming/imagesiamese/picture/15SvdPllp...</td>\n",
       "      <td>0</td>\n",
       "    </tr>\n",
       "    <tr>\n",
       "      <th>3</th>\n",
       "      <td>/home/data_ming/imagesiamese/dataset_base/174Q...</td>\n",
       "      <td>/home/data_ming/imagesiamese/dataset_pair/174Q...</td>\n",
       "      <td>1</td>\n",
       "    </tr>\n",
       "    <tr>\n",
       "      <th>4</th>\n",
       "      <td>/home/data_ming/imagesiamese/picture/15QTwg4Jd...</td>\n",
       "      <td>/home/data_ming/imagesiamese/crop/15QTwg4JdXG_...</td>\n",
       "      <td>1</td>\n",
       "    </tr>\n",
       "  </tbody>\n",
       "</table>\n",
       "</div>"
      ],
      "text/plain": [
       "                                          base_image  \\\n",
       "0  /home/data_ming/imagesiamese/picture/16TMnGO5R...   \n",
       "1  /home/data_ming/imagesiamese/picture/15QKS1FKm...   \n",
       "2  /home/data_ming/imagesiamese/picture/15Sv0Oen0...   \n",
       "3  /home/data_ming/imagesiamese/dataset_base/174Q...   \n",
       "4  /home/data_ming/imagesiamese/picture/15QTwg4Jd...   \n",
       "\n",
       "                                          pair_image  label  \n",
       "0  /home/data_ming/imagesiamese/crop/15QTx2zA6Xe_...      0  \n",
       "1  /home/data_ming/imagesiamese/crop/15QKS1FKmFW_...      1  \n",
       "2  /home/data_ming/imagesiamese/picture/15SvdPllp...      0  \n",
       "3  /home/data_ming/imagesiamese/dataset_pair/174Q...      1  \n",
       "4  /home/data_ming/imagesiamese/crop/15QTwg4JdXG_...      1  "
      ]
     },
     "execution_count": 6,
     "metadata": {},
     "output_type": "execute_result"
    }
   ],
   "source": [
    "image.head(5)"
   ]
  },
  {
   "cell_type": "code",
   "execution_count": 7,
   "id": "posted-routine",
   "metadata": {},
   "outputs": [
    {
     "data": {
      "text/plain": [
       "0     /home/data_ming/imagesiamese/picture/16TMnGO5R...\n",
       "1     /home/data_ming/imagesiamese/picture/15QKS1FKm...\n",
       "2     /home/data_ming/imagesiamese/picture/15Sv0Oen0...\n",
       "3     /home/data_ming/imagesiamese/dataset_base/174Q...\n",
       "4     /home/data_ming/imagesiamese/picture/15QTwg4Jd...\n",
       "5     /home/data_ming/imagesiamese/dataset_base/16JY...\n",
       "6     /home/data_ming/imagesiamese/dataset_base/16TO...\n",
       "7     /home/data_ming/imagesiamese/picture/15SuGXmyi...\n",
       "8     /home/data_ming/imagesiamese/picture/15P7VCdnY...\n",
       "9     /home/data_ming/imagesiamese/dataset_base/15QT...\n",
       "10    /home/data_ming/imagesiamese/dataset_base/16JL...\n",
       "11    /home/data_ming/imagesiamese/picture/16BHgrYzC...\n",
       "12    /home/data_ming/imagesiamese/picture/15QRpM0H0...\n",
       "13    /home/data_ming/imagesiamese/dataset_base/176t...\n",
       "14    /home/data_ming/imagesiamese/picture/15QyCagvP...\n",
       "15    /home/data_ming/imagesiamese/picture/15QRwFjOc...\n",
       "16    /home/data_ming/imagesiamese/picture/15QPZXqJ8...\n",
       "17    /home/data_ming/imagesiamese/picture/15QTD9Qej...\n",
       "18    /home/data_ming/imagesiamese/dataset_base/16Ly...\n",
       "19    /home/data_ming/imagesiamese/dataset_base/15QT...\n",
       "20    /home/data_ming/imagesiamese/picture/15QTxOvwh...\n",
       "21    /home/data_ming/imagesiamese/dataset_base/16TP...\n",
       "22    /home/data_ming/imagesiamese/dataset_base/16K3...\n",
       "23    /home/data_ming/imagesiamese/picture/15rI1iIDh...\n",
       "24    /home/data_ming/imagesiamese/dataset_base/15Qy...\n",
       "25    /home/data_ming/imagesiamese/picture/15Sow4R7u...\n",
       "26    /home/data_ming/imagesiamese/dataset_base/16JL...\n",
       "27    /home/data_ming/imagesiamese/picture/15QUcP5ZZ...\n",
       "28    /home/data_ming/imagesiamese/picture/15QWRf5rr...\n",
       "29    /home/data_ming/imagesiamese/picture/15QSCSEb3...\n",
       "30    /home/data_ming/imagesiamese/picture/15Sow7KNw...\n",
       "31    /home/data_ming/imagesiamese/picture/15PcTeYK6...\n",
       "32    /home/data_ming/imagesiamese/picture/15QN5YI6T...\n",
       "33    /home/data_ming/imagesiamese/dataset_base/16JH...\n",
       "34    /home/data_ming/imagesiamese/picture/15Sv0HgUH...\n",
       "35    /home/data_ming/imagesiamese/picture/15QLArNDO...\n",
       "36    /home/data_ming/imagesiamese/picture/174Q0ZQiY...\n",
       "37    /home/data_ming/imagesiamese/dataset_base/16K1...\n",
       "38    /home/data_ming/imagesiamese/dataset_base/15QR...\n",
       "39    /home/data_ming/imagesiamese/picture/16JM0GnBj...\n",
       "40    /home/data_ming/imagesiamese/picture/16JYqe6be...\n",
       "41    /home/data_ming/imagesiamese/dataset_base/16Ly...\n",
       "42    /home/data_ming/imagesiamese/dataset_base/15Qy...\n",
       "43    /home/data_ming/imagesiamese/dataset_base/16TM...\n",
       "44    /home/data_ming/imagesiamese/picture/15QTusFaJ...\n",
       "45    /home/data_ming/imagesiamese/dataset_base/16pB...\n",
       "46    /home/data_ming/imagesiamese/dataset_base/16JW...\n",
       "47    /home/data_ming/imagesiamese/picture/15Pr2gvyg...\n",
       "48    /home/data_ming/imagesiamese/dataset_base/15QK...\n",
       "49    /home/data_ming/imagesiamese/picture/15QLAGQFj...\n",
       "Name: base_image, dtype: object"
      ]
     },
     "execution_count": 7,
     "metadata": {},
     "output_type": "execute_result"
    }
   ],
   "source": [
    "image = image['base_image']"
   ]
  },
  {
   "cell_type": "code",
   "execution_count": null,
   "id": "certified-screw",
   "metadata": {},
   "outputs": [],
   "source": [
    "dtype(image)"
   ]
  },
  {
   "cell_type": "code",
   "execution_count": null,
   "id": "subjective-supervisor",
   "metadata": {},
   "outputs": [],
   "source": [
    "pair_image_dataset = []\n",
    "#随机数据配对\n",
    "for image_name in original_images:\n",
    "    base_image_path = '/home/data_ming/imagesiamese/picture'+image_name\n",
    "    image_name_head,image_name_tail = image_name.split('.')\n",
    "    crop_image_h_path = '/home/data_ming/imagesiamese/crop/'+image_name_head+'_h.'+image_name_tail\n",
    "    crop_image_v_path = '/home/data_ming/imagesiamese/crop/'+image_name_head+'_v.'+image_name_tail\n",
    "    crop_image_r_path = '/home/data_ming/imagesiamese/crop/'+image_name_head+'_r.'+image_name_tail\n",
    "    \n",
    "    if os.path.exists(crop_image_h_path):\n",
    "        pair_image_dataset.append([base_image_path,crop_image_h_path,1.0])\n",
    "        pair_image_dataset.append([base_image_path,crop_image_v_path,1.0])\n",
    "        pair_image_dataset.append([base_image_path,crop_image_r_path,1.0])  \n",
    "        pair_image_dataset.append([base_image_path,crop_image_v_path,1.0])\n",
    "        pair_image_dataset.append([base_image_path,crop_image_v_path,1.0])\n",
    "        pair_image_dataset.append([base_image_path,crop_image_h_path,1.0])\n",
    "        \n",
    "        #随机负采样\n",
    "        sampled_neg_images = [ random.choice(original_image_path) for x in range(3) ]\n",
    "        for neg_image in sampled_neg_images:\n",
    "            if neg_image != image_name :\n",
    "                pair_image_dataset.append([original_image_path,original_image_path+neg_image,0.0])\n",
    "        sampled_neg_crop_images = [ random.choice(crop_path) for x in range(3) ]\n",
    "        for neg_crop_image in sampled_neg_crop_images:\n",
    "            if neg_crop_image.split('_')[0] != image_name.split('.')[0]:\n",
    "                pair_image_dataset.append([original_image_path,crop_path+neg_crop_image,0.0])"
   ]
  },
  {
   "cell_type": "code",
   "execution_count": null,
   "id": "ordered-graduation",
   "metadata": {},
   "outputs": [],
   "source": []
  },
  {
   "cell_type": "code",
   "execution_count": 18,
   "id": "mathematical-texture",
   "metadata": {},
   "outputs": [],
   "source": [
    "image = pd.read_csv('./images_350.csv',nrows = 50)"
   ]
  },
  {
   "cell_type": "code",
   "execution_count": 23,
   "id": "pleased-butler",
   "metadata": {},
   "outputs": [],
   "source": [
    "pair_image_dataset = []\n",
    "for idx,row in image.iterrows():\n",
    "    image_all = row['base_image'].split('/')[-1]\n",
    "    image_name,image_name_tail=image_all.split('.')\n",
    "#     im = Image.open(row['base_image'])\n",
    "#     width, height = im.size\n",
    "#     w = random.uniform(0.7, 1.2)\n",
    "#     h  = random.uniform(0.5, 1.5)\n",
    "#     im_resized = im.resize((int(w*width),int(h*height)))\n",
    "    resize_path = '/home/data_ming/imagesiamese/resize/'+image_name+'_resize.'+image_name_tail\n",
    "#     im_resized.save(resize_path)\n",
    "    pair_image_dataset.append([row['base_image'],resize_path,1.0])\n"
   ]
  },
  {
   "cell_type": "code",
   "execution_count": 25,
   "id": "intended-demonstration",
   "metadata": {},
   "outputs": [],
   "source": [
    "pair_image_dataframe = pd.DataFrame(pair_image_dataset,columns=[\"base_image\",\"pair_image\",\"label\"])"
   ]
  },
  {
   "cell_type": "code",
   "execution_count": 26,
   "id": "median-yacht",
   "metadata": {},
   "outputs": [
    {
     "data": {
      "text/html": [
       "<div>\n",
       "<style scoped>\n",
       "    .dataframe tbody tr th:only-of-type {\n",
       "        vertical-align: middle;\n",
       "    }\n",
       "\n",
       "    .dataframe tbody tr th {\n",
       "        vertical-align: top;\n",
       "    }\n",
       "\n",
       "    .dataframe thead th {\n",
       "        text-align: right;\n",
       "    }\n",
       "</style>\n",
       "<table border=\"1\" class=\"dataframe\">\n",
       "  <thead>\n",
       "    <tr style=\"text-align: right;\">\n",
       "      <th></th>\n",
       "      <th>base_image</th>\n",
       "      <th>pair_image</th>\n",
       "      <th>label</th>\n",
       "    </tr>\n",
       "  </thead>\n",
       "  <tbody>\n",
       "    <tr>\n",
       "      <th>0</th>\n",
       "      <td>/home/data_ming/imagesiamese/picture/16TMnGO5R...</td>\n",
       "      <td>/home/data_ming/imagesiamese/resize/16TMnGO5Rb...</td>\n",
       "      <td>1.0</td>\n",
       "    </tr>\n",
       "    <tr>\n",
       "      <th>1</th>\n",
       "      <td>/home/data_ming/imagesiamese/picture/15QKS1FKm...</td>\n",
       "      <td>/home/data_ming/imagesiamese/resize/15QKS1FKmF...</td>\n",
       "      <td>1.0</td>\n",
       "    </tr>\n",
       "    <tr>\n",
       "      <th>2</th>\n",
       "      <td>/home/data_ming/imagesiamese/picture/15Sv0Oen0...</td>\n",
       "      <td>/home/data_ming/imagesiamese/resize/15Sv0Oen0z...</td>\n",
       "      <td>1.0</td>\n",
       "    </tr>\n",
       "    <tr>\n",
       "      <th>3</th>\n",
       "      <td>/home/data_ming/imagesiamese/dataset_base/174Q...</td>\n",
       "      <td>/home/data_ming/imagesiamese/resize/174Q0YTy0t...</td>\n",
       "      <td>1.0</td>\n",
       "    </tr>\n",
       "    <tr>\n",
       "      <th>4</th>\n",
       "      <td>/home/data_ming/imagesiamese/picture/15QTwg4Jd...</td>\n",
       "      <td>/home/data_ming/imagesiamese/resize/15QTwg4JdX...</td>\n",
       "      <td>1.0</td>\n",
       "    </tr>\n",
       "  </tbody>\n",
       "</table>\n",
       "</div>"
      ],
      "text/plain": [
       "                                          base_image  \\\n",
       "0  /home/data_ming/imagesiamese/picture/16TMnGO5R...   \n",
       "1  /home/data_ming/imagesiamese/picture/15QKS1FKm...   \n",
       "2  /home/data_ming/imagesiamese/picture/15Sv0Oen0...   \n",
       "3  /home/data_ming/imagesiamese/dataset_base/174Q...   \n",
       "4  /home/data_ming/imagesiamese/picture/15QTwg4Jd...   \n",
       "\n",
       "                                          pair_image  label  \n",
       "0  /home/data_ming/imagesiamese/resize/16TMnGO5Rb...    1.0  \n",
       "1  /home/data_ming/imagesiamese/resize/15QKS1FKmF...    1.0  \n",
       "2  /home/data_ming/imagesiamese/resize/15Sv0Oen0z...    1.0  \n",
       "3  /home/data_ming/imagesiamese/resize/174Q0YTy0t...    1.0  \n",
       "4  /home/data_ming/imagesiamese/resize/15QTwg4JdX...    1.0  "
      ]
     },
     "execution_count": 26,
     "metadata": {},
     "output_type": "execute_result"
    }
   ],
   "source": [
    "pair_image_dataframe.head(5)"
   ]
  },
  {
   "cell_type": "code",
   "execution_count": 27,
   "id": "specialized-trash",
   "metadata": {},
   "outputs": [],
   "source": [
    "pair_image_dataframe.to_csv('./images_resize.csv',index=False)"
   ]
  },
  {
   "cell_type": "code",
   "execution_count": 29,
   "id": "comfortable-congo",
   "metadata": {},
   "outputs": [],
   "source": [
    "data = pd.read_csv('./images_resize.csv')"
   ]
  },
  {
   "cell_type": "code",
   "execution_count": 30,
   "id": "toxic-constant",
   "metadata": {},
   "outputs": [
    {
     "data": {
      "text/html": [
       "<div>\n",
       "<style scoped>\n",
       "    .dataframe tbody tr th:only-of-type {\n",
       "        vertical-align: middle;\n",
       "    }\n",
       "\n",
       "    .dataframe tbody tr th {\n",
       "        vertical-align: top;\n",
       "    }\n",
       "\n",
       "    .dataframe thead th {\n",
       "        text-align: right;\n",
       "    }\n",
       "</style>\n",
       "<table border=\"1\" class=\"dataframe\">\n",
       "  <thead>\n",
       "    <tr style=\"text-align: right;\">\n",
       "      <th></th>\n",
       "      <th>base_image</th>\n",
       "      <th>pair_image</th>\n",
       "      <th>label</th>\n",
       "    </tr>\n",
       "  </thead>\n",
       "  <tbody>\n",
       "    <tr>\n",
       "      <th>0</th>\n",
       "      <td>/home/data_ming/imagesiamese/picture/16TMnGO5R...</td>\n",
       "      <td>/home/data_ming/imagesiamese/resize/16TMnGO5Rb...</td>\n",
       "      <td>1.0</td>\n",
       "    </tr>\n",
       "    <tr>\n",
       "      <th>1</th>\n",
       "      <td>/home/data_ming/imagesiamese/picture/15QKS1FKm...</td>\n",
       "      <td>/home/data_ming/imagesiamese/resize/15QKS1FKmF...</td>\n",
       "      <td>1.0</td>\n",
       "    </tr>\n",
       "    <tr>\n",
       "      <th>2</th>\n",
       "      <td>/home/data_ming/imagesiamese/picture/15Sv0Oen0...</td>\n",
       "      <td>/home/data_ming/imagesiamese/resize/15Sv0Oen0z...</td>\n",
       "      <td>1.0</td>\n",
       "    </tr>\n",
       "    <tr>\n",
       "      <th>3</th>\n",
       "      <td>/home/data_ming/imagesiamese/dataset_base/174Q...</td>\n",
       "      <td>/home/data_ming/imagesiamese/resize/174Q0YTy0t...</td>\n",
       "      <td>1.0</td>\n",
       "    </tr>\n",
       "    <tr>\n",
       "      <th>4</th>\n",
       "      <td>/home/data_ming/imagesiamese/picture/15QTwg4Jd...</td>\n",
       "      <td>/home/data_ming/imagesiamese/resize/15QTwg4JdX...</td>\n",
       "      <td>1.0</td>\n",
       "    </tr>\n",
       "  </tbody>\n",
       "</table>\n",
       "</div>"
      ],
      "text/plain": [
       "                                          base_image  \\\n",
       "0  /home/data_ming/imagesiamese/picture/16TMnGO5R...   \n",
       "1  /home/data_ming/imagesiamese/picture/15QKS1FKm...   \n",
       "2  /home/data_ming/imagesiamese/picture/15Sv0Oen0...   \n",
       "3  /home/data_ming/imagesiamese/dataset_base/174Q...   \n",
       "4  /home/data_ming/imagesiamese/picture/15QTwg4Jd...   \n",
       "\n",
       "                                          pair_image  label  \n",
       "0  /home/data_ming/imagesiamese/resize/16TMnGO5Rb...    1.0  \n",
       "1  /home/data_ming/imagesiamese/resize/15QKS1FKmF...    1.0  \n",
       "2  /home/data_ming/imagesiamese/resize/15Sv0Oen0z...    1.0  \n",
       "3  /home/data_ming/imagesiamese/resize/174Q0YTy0t...    1.0  \n",
       "4  /home/data_ming/imagesiamese/resize/15QTwg4JdX...    1.0  "
      ]
     },
     "execution_count": 30,
     "metadata": {},
     "output_type": "execute_result"
    }
   ],
   "source": [
    "data.head(5)"
   ]
  },
  {
   "cell_type": "code",
   "execution_count": null,
   "id": "adjusted-offense",
   "metadata": {},
   "outputs": [],
   "source": []
  },
  {
   "cell_type": "code",
   "execution_count": null,
   "id": "republican-induction",
   "metadata": {},
   "outputs": [],
   "source": []
  }
 ],
 "metadata": {
  "kernelspec": {
   "display_name": "PySpark",
   "language": "python",
   "name": "pyspark"
  },
  "language_info": {
   "codemirror_mode": {
    "name": "ipython",
    "version": 3
   },
   "file_extension": ".py",
   "mimetype": "text/x-python",
   "name": "python",
   "nbconvert_exporter": "python",
   "pygments_lexer": "ipython3",
   "version": "3.7.10"
  }
 },
 "nbformat": 4,
 "nbformat_minor": 5
}
