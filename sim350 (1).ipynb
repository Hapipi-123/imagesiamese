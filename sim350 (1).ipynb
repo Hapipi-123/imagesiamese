{
 "cells": [
  {
   "cell_type": "code",
   "execution_count": 1,
   "id": "convenient-february",
   "metadata": {},
   "outputs": [],
   "source": [
    "import matplotlib.pyplot as plt\n",
    "import numpy as np\n",
    "import os\n",
    "import random\n",
    "import tensorflow as tf\n",
    "from pathlib import Path\n",
    "from tensorflow import keras\n",
    "from tensorflow.keras import applications\n",
    "from tensorflow.keras import layers\n",
    "from tensorflow.keras import losses\n",
    "from tensorflow.keras import optimizers\n",
    "from tensorflow.keras import metrics\n",
    "from tensorflow.keras import Model\n",
    "from tensorflow.keras.applications import resnet\n",
    "import pandas as pd\n",
    "from PIL import Image\n",
    "from PIL import ImageFile\n",
    "ImageFile.LOAD_TRUNCATED_IMAGES = True\n",
    "from sklearn.utils import shuffle\n",
    "import gc"
   ]
  },
  {
   "cell_type": "code",
   "execution_count": 2,
   "id": "settled-reliance",
   "metadata": {},
   "outputs": [
    {
     "data": {
      "text/html": [
       "<div>\n",
       "<style scoped>\n",
       "    .dataframe tbody tr th:only-of-type {\n",
       "        vertical-align: middle;\n",
       "    }\n",
       "\n",
       "    .dataframe tbody tr th {\n",
       "        vertical-align: top;\n",
       "    }\n",
       "\n",
       "    .dataframe thead th {\n",
       "        text-align: right;\n",
       "    }\n",
       "</style>\n",
       "<table border=\"1\" class=\"dataframe\">\n",
       "  <thead>\n",
       "    <tr style=\"text-align: right;\">\n",
       "      <th></th>\n",
       "      <th>base_image</th>\n",
       "      <th>pair_image</th>\n",
       "      <th>label</th>\n",
       "    </tr>\n",
       "  </thead>\n",
       "  <tbody>\n",
       "    <tr>\n",
       "      <th>0</th>\n",
       "      <td>/home/data_ming/imagesiamese/dataset_base/178H...</td>\n",
       "      <td>/home/data_ming/imagesiamese/dataset_pair/178H...</td>\n",
       "      <td>1</td>\n",
       "    </tr>\n",
       "    <tr>\n",
       "      <th>1</th>\n",
       "      <td>/home/data_ming/imagesiamese/dataset_base/178H...</td>\n",
       "      <td>/home/data_ming/imagesiamese/dataset_pair/15Su...</td>\n",
       "      <td>0</td>\n",
       "    </tr>\n",
       "    <tr>\n",
       "      <th>2</th>\n",
       "      <td>/home/data_ming/imagesiamese/dataset_base/178H...</td>\n",
       "      <td>/home/data_ming/imagesiamese/dataset_pair/16BG...</td>\n",
       "      <td>0</td>\n",
       "    </tr>\n",
       "    <tr>\n",
       "      <th>3</th>\n",
       "      <td>/home/data_ming/imagesiamese/dataset_base/178H...</td>\n",
       "      <td>/home/data_ming/imagesiamese/dataset_pair/16Wy...</td>\n",
       "      <td>0</td>\n",
       "    </tr>\n",
       "    <tr>\n",
       "      <th>4</th>\n",
       "      <td>/home/data_ming/imagesiamese/dataset_base/178H...</td>\n",
       "      <td>/home/data_ming/imagesiamese/dataset_pair/16TM...</td>\n",
       "      <td>0</td>\n",
       "    </tr>\n",
       "  </tbody>\n",
       "</table>\n",
       "</div>"
      ],
      "text/plain": [
       "                                          base_image  \\\n",
       "0  /home/data_ming/imagesiamese/dataset_base/178H...   \n",
       "1  /home/data_ming/imagesiamese/dataset_base/178H...   \n",
       "2  /home/data_ming/imagesiamese/dataset_base/178H...   \n",
       "3  /home/data_ming/imagesiamese/dataset_base/178H...   \n",
       "4  /home/data_ming/imagesiamese/dataset_base/178H...   \n",
       "\n",
       "                                          pair_image  label  \n",
       "0  /home/data_ming/imagesiamese/dataset_pair/178H...      1  \n",
       "1  /home/data_ming/imagesiamese/dataset_pair/15Su...      0  \n",
       "2  /home/data_ming/imagesiamese/dataset_pair/16BG...      0  \n",
       "3  /home/data_ming/imagesiamese/dataset_pair/16Wy...      0  \n",
       "4  /home/data_ming/imagesiamese/dataset_pair/16TM...      0  "
      ]
     },
     "execution_count": 2,
     "metadata": {},
     "output_type": "execute_result"
    }
   ],
   "source": [
    "pair_image_dataset = pd.read_csv('./new_pair_image_dataset.csv')\n",
    "pair_image_dataset.head(5)"
   ]
  },
  {
   "cell_type": "code",
   "execution_count": 3,
   "id": "loving-keyboard",
   "metadata": {},
   "outputs": [
    {
     "data": {
      "text/plain": [
       "pandas.core.frame.DataFrame"
      ]
     },
     "execution_count": 3,
     "metadata": {},
     "output_type": "execute_result"
    }
   ],
   "source": [
    "type(pair_image_dataset)"
   ]
  },
  {
   "cell_type": "code",
   "execution_count": 4,
   "id": "spoken-auditor",
   "metadata": {},
   "outputs": [],
   "source": [
    "dataset = []"
   ]
  },
  {
   "cell_type": "code",
   "execution_count": 5,
   "id": "horizontal-tours",
   "metadata": {},
   "outputs": [],
   "source": [
    "for idx,row in pair_image_dataset.iterrows():\n",
    "    base_image = row['base_image']\n",
    "    pair_image = row['pair_image']\n",
    "    label = float(row['label'])\n",
    "    if os.path.exists(base_image) and os.path.exists(pair_image) :\n",
    "        dataset.append([base_image,pair_image,label])"
   ]
  },
  {
   "cell_type": "code",
   "execution_count": 6,
   "id": "extreme-liability",
   "metadata": {},
   "outputs": [
    {
     "data": {
      "text/plain": [
       "1128"
      ]
     },
     "execution_count": 6,
     "metadata": {},
     "output_type": "execute_result"
    }
   ],
   "source": [
    "len(dataset)"
   ]
  },
  {
   "cell_type": "code",
   "execution_count": 7,
   "id": "round-median",
   "metadata": {},
   "outputs": [],
   "source": [
    "new_image_dataset = pd.read_csv('./add.csv')"
   ]
  },
  {
   "cell_type": "code",
   "execution_count": 8,
   "id": "computational-google",
   "metadata": {},
   "outputs": [],
   "source": [
    "for idx,row in new_image_dataset.iterrows():\n",
    "    base_image = '/home/data_ming/imagesiamese/picture/' + row['base_image']\n",
    "    pair_image = '/home/data_ming/imagesiamese/picture/' + row['pair_image']\n",
    "    label = float(row['label'])\n",
    "    if 'gif'not in base_image  and 'gif' not in pair_image:\n",
    "        #print(base_image,pair_image,label)\n",
    "        dataset.append([base_image,pair_image,label])\n",
    "    else:\n",
    "        print('0')\n",
    "        pass"
   ]
  },
  {
   "cell_type": "code",
   "execution_count": 9,
   "id": "printable-passenger",
   "metadata": {},
   "outputs": [
    {
     "data": {
      "text/plain": [
       "1232"
      ]
     },
     "execution_count": 9,
     "metadata": {},
     "output_type": "execute_result"
    }
   ],
   "source": [
    "len(dataset)"
   ]
  },
  {
   "cell_type": "code",
   "execution_count": 10,
   "id": "editorial-scanning",
   "metadata": {},
   "outputs": [],
   "source": [
    "all_image_dataset = pd.read_csv('./pair_images_all.csv',nrows = 2000)"
   ]
  },
  {
   "cell_type": "code",
   "execution_count": 11,
   "id": "aggressive-premiere",
   "metadata": {},
   "outputs": [
    {
     "data": {
      "text/html": [
       "<div>\n",
       "<style scoped>\n",
       "    .dataframe tbody tr th:only-of-type {\n",
       "        vertical-align: middle;\n",
       "    }\n",
       "\n",
       "    .dataframe tbody tr th {\n",
       "        vertical-align: top;\n",
       "    }\n",
       "\n",
       "    .dataframe thead th {\n",
       "        text-align: right;\n",
       "    }\n",
       "</style>\n",
       "<table border=\"1\" class=\"dataframe\">\n",
       "  <thead>\n",
       "    <tr style=\"text-align: right;\">\n",
       "      <th></th>\n",
       "      <th>base_image</th>\n",
       "      <th>pair_image</th>\n",
       "      <th>label</th>\n",
       "    </tr>\n",
       "  </thead>\n",
       "  <tbody>\n",
       "    <tr>\n",
       "      <th>0</th>\n",
       "      <td>/home/data_ming/imagesiamese/picture/15QLzHghk...</td>\n",
       "      <td>/home/data_ming/imagesiamese/crop/15vnPTYRVvy_...</td>\n",
       "      <td>0.0</td>\n",
       "    </tr>\n",
       "    <tr>\n",
       "      <th>1</th>\n",
       "      <td>/home/data_ming/imagesiamese/picture/15SuI8vnS...</td>\n",
       "      <td>/home/data_ming/imagesiamese/crop/15SuI8vnSNi_...</td>\n",
       "      <td>1.0</td>\n",
       "    </tr>\n",
       "    <tr>\n",
       "      <th>2</th>\n",
       "      <td>/home/data_ming/imagesiamese/picture/15PgTTJcA...</td>\n",
       "      <td>/home/data_ming/imagesiamese/crop/15Sf4xEajBK_...</td>\n",
       "      <td>0.0</td>\n",
       "    </tr>\n",
       "    <tr>\n",
       "      <th>3</th>\n",
       "      <td>/home/data_ming/imagesiamese/picture/15QKfkVVh...</td>\n",
       "      <td>/home/data_ming/imagesiamese/crop/15SuHNtVMaI_...</td>\n",
       "      <td>0.0</td>\n",
       "    </tr>\n",
       "    <tr>\n",
       "      <th>4</th>\n",
       "      <td>/home/data_ming/imagesiamese/picture/15SvdLJ6f...</td>\n",
       "      <td>/home/data_ming/imagesiamese/picture/15PhWxUD8...</td>\n",
       "      <td>0.0</td>\n",
       "    </tr>\n",
       "  </tbody>\n",
       "</table>\n",
       "</div>"
      ],
      "text/plain": [
       "                                          base_image  \\\n",
       "0  /home/data_ming/imagesiamese/picture/15QLzHghk...   \n",
       "1  /home/data_ming/imagesiamese/picture/15SuI8vnS...   \n",
       "2  /home/data_ming/imagesiamese/picture/15PgTTJcA...   \n",
       "3  /home/data_ming/imagesiamese/picture/15QKfkVVh...   \n",
       "4  /home/data_ming/imagesiamese/picture/15SvdLJ6f...   \n",
       "\n",
       "                                          pair_image  label  \n",
       "0  /home/data_ming/imagesiamese/crop/15vnPTYRVvy_...    0.0  \n",
       "1  /home/data_ming/imagesiamese/crop/15SuI8vnSNi_...    1.0  \n",
       "2  /home/data_ming/imagesiamese/crop/15Sf4xEajBK_...    0.0  \n",
       "3  /home/data_ming/imagesiamese/crop/15SuHNtVMaI_...    0.0  \n",
       "4  /home/data_ming/imagesiamese/picture/15PhWxUD8...    0.0  "
      ]
     },
     "execution_count": 11,
     "metadata": {},
     "output_type": "execute_result"
    }
   ],
   "source": [
    "all_image_dataset.head(5)"
   ]
  },
  {
   "cell_type": "code",
   "execution_count": 12,
   "id": "substantial-madrid",
   "metadata": {},
   "outputs": [
    {
     "name": "stdout",
     "output_type": "stream",
     "text": [
      "0\n",
      "0\n",
      "0\n",
      "0\n",
      "0\n",
      "0\n",
      "0\n",
      "0\n",
      "0\n",
      "0\n",
      "0\n",
      "0\n",
      "0\n",
      "0\n",
      "0\n",
      "0\n",
      "0\n",
      "0\n",
      "0\n",
      "0\n",
      "0\n",
      "0\n",
      "0\n",
      "0\n",
      "0\n",
      "0\n",
      "0\n",
      "0\n",
      "0\n"
     ]
    }
   ],
   "source": [
    "for idx,row in all_image_dataset.iterrows():\n",
    "    base_image = row['base_image']\n",
    "    pair_image = row['pair_image']\n",
    "    label = float(row['label'])\n",
    "    if 'gif'not in base_image  and 'gif' not in pair_image:\n",
    "        #print(base_image,pair_image,label)\n",
    "        dataset.append([base_image,pair_image,label])\n",
    "    else:\n",
    "        print('0')\n",
    "        pass"
   ]
  },
  {
   "cell_type": "code",
   "execution_count": 13,
   "id": "absolute-journey",
   "metadata": {},
   "outputs": [
    {
     "data": {
      "text/plain": [
       "3203"
      ]
     },
     "execution_count": 13,
     "metadata": {},
     "output_type": "execute_result"
    }
   ],
   "source": [
    "len(dataset)"
   ]
  },
  {
   "cell_type": "code",
   "execution_count": 14,
   "id": "polyphonic-avatar",
   "metadata": {},
   "outputs": [],
   "source": [
    "resize_image_dataset = pd.read_csv('./images_resize.csv')"
   ]
  },
  {
   "cell_type": "code",
   "execution_count": 15,
   "id": "greek-regular",
   "metadata": {},
   "outputs": [],
   "source": [
    "for idx,row in resize_image_dataset.iterrows():\n",
    "    base_image = row['base_image']\n",
    "    pair_image = row['pair_image']\n",
    "    label = float(row['label'])\n",
    "    if 'gif'not in base_image  and 'gif' not in pair_image:\n",
    "        #print(base_image,pair_image,label)\n",
    "        dataset.append([base_image,pair_image,label])\n",
    "    else:\n",
    "        print('0')\n",
    "        pass"
   ]
  },
  {
   "cell_type": "code",
   "execution_count": 16,
   "id": "leading-korea",
   "metadata": {},
   "outputs": [
    {
     "data": {
      "text/plain": [
       "3253"
      ]
     },
     "execution_count": 16,
     "metadata": {},
     "output_type": "execute_result"
    }
   ],
   "source": [
    "len(dataset)"
   ]
  },
  {
   "cell_type": "code",
   "execution_count": 18,
   "id": "practical-entrance",
   "metadata": {},
   "outputs": [],
   "source": [
    "image_dataframe = pd.DataFrame(dataset,columns=[\"base_image\",\"pair_image\",\"label\"])\n",
    "image_dataframe = shuffle(image_dataframe)"
   ]
  },
  {
   "cell_type": "code",
   "execution_count": 19,
   "id": "sought-shooting",
   "metadata": {},
   "outputs": [],
   "source": [
    "image_dataframe.to_csv('./images_350.csv',index=False)"
   ]
  },
  {
   "cell_type": "code",
   "execution_count": 20,
   "id": "nervous-eclipse",
   "metadata": {},
   "outputs": [],
   "source": [
    "image_data = pd.read_csv('./images_350.csv')"
   ]
  },
  {
   "cell_type": "code",
   "execution_count": 21,
   "id": "ranking-owner",
   "metadata": {},
   "outputs": [
    {
     "data": {
      "text/plain": [
       "(3253, 3)"
      ]
     },
     "execution_count": 21,
     "metadata": {},
     "output_type": "execute_result"
    }
   ],
   "source": [
    "image_data.shape"
   ]
  },
  {
   "cell_type": "code",
   "execution_count": 22,
   "id": "involved-committee",
   "metadata": {},
   "outputs": [
    {
     "data": {
      "text/html": [
       "<div>\n",
       "<style scoped>\n",
       "    .dataframe tbody tr th:only-of-type {\n",
       "        vertical-align: middle;\n",
       "    }\n",
       "\n",
       "    .dataframe tbody tr th {\n",
       "        vertical-align: top;\n",
       "    }\n",
       "\n",
       "    .dataframe thead th {\n",
       "        text-align: right;\n",
       "    }\n",
       "</style>\n",
       "<table border=\"1\" class=\"dataframe\">\n",
       "  <thead>\n",
       "    <tr style=\"text-align: right;\">\n",
       "      <th></th>\n",
       "      <th>base_image</th>\n",
       "      <th>pair_image</th>\n",
       "      <th>label</th>\n",
       "    </tr>\n",
       "  </thead>\n",
       "  <tbody>\n",
       "    <tr>\n",
       "      <th>0</th>\n",
       "      <td>/home/data_ming/imagesiamese/dataset_base/16Mz...</td>\n",
       "      <td>/home/data_ming/imagesiamese/dataset_pair/16JL...</td>\n",
       "      <td>0.0</td>\n",
       "    </tr>\n",
       "    <tr>\n",
       "      <th>1</th>\n",
       "      <td>/home/data_ming/imagesiamese/dataset_base/16TM...</td>\n",
       "      <td>/home/data_ming/imagesiamese/dataset_pair/178a...</td>\n",
       "      <td>0.0</td>\n",
       "    </tr>\n",
       "    <tr>\n",
       "      <th>2</th>\n",
       "      <td>/home/data_ming/imagesiamese/dataset_base/16JP...</td>\n",
       "      <td>/home/data_ming/imagesiamese/dataset_pair/178a...</td>\n",
       "      <td>0.0</td>\n",
       "    </tr>\n",
       "    <tr>\n",
       "      <th>3</th>\n",
       "      <td>/home/data_ming/imagesiamese/dataset_base/168M...</td>\n",
       "      <td>/home/data_ming/imagesiamese/dataset_pair/16K2...</td>\n",
       "      <td>0.0</td>\n",
       "    </tr>\n",
       "    <tr>\n",
       "      <th>4</th>\n",
       "      <td>/home/data_ming/imagesiamese/picture/15P7TG7ms...</td>\n",
       "      <td>/home/data_ming/imagesiamese/crop/15R0IK7j0c0_...</td>\n",
       "      <td>0.0</td>\n",
       "    </tr>\n",
       "    <tr>\n",
       "      <th>5</th>\n",
       "      <td>/home/data_ming/imagesiamese/picture/15S6zSOHb...</td>\n",
       "      <td>/home/data_ming/imagesiamese/crop/15S6zSOHb4k_...</td>\n",
       "      <td>1.0</td>\n",
       "    </tr>\n",
       "    <tr>\n",
       "      <th>6</th>\n",
       "      <td>/home/data_ming/imagesiamese/picture/15S7bAmxL...</td>\n",
       "      <td>/home/data_ming/imagesiamese/crop/15S7bAmxL0I_...</td>\n",
       "      <td>1.0</td>\n",
       "    </tr>\n",
       "    <tr>\n",
       "      <th>7</th>\n",
       "      <td>/home/data_ming/imagesiamese/picture/16K4qQQG9...</td>\n",
       "      <td>/home/data_ming/imagesiamese/crop/16K4qQQG9kk_...</td>\n",
       "      <td>1.0</td>\n",
       "    </tr>\n",
       "    <tr>\n",
       "      <th>8</th>\n",
       "      <td>/home/data_ming/imagesiamese/picture/15Sv0Oen0...</td>\n",
       "      <td>/home/data_ming/imagesiamese/picture/15SvdPllp...</td>\n",
       "      <td>0.0</td>\n",
       "    </tr>\n",
       "    <tr>\n",
       "      <th>9</th>\n",
       "      <td>/home/data_ming/imagesiamese/dataset_base/16JV...</td>\n",
       "      <td>/home/data_ming/imagesiamese/dataset_pair/16Wy...</td>\n",
       "      <td>0.0</td>\n",
       "    </tr>\n",
       "    <tr>\n",
       "      <th>10</th>\n",
       "      <td>/home/data_ming/imagesiamese/picture/15QSCSqgK...</td>\n",
       "      <td>/home/data_ming/imagesiamese/crop/15R0IMJ6mkM_...</td>\n",
       "      <td>0.0</td>\n",
       "    </tr>\n",
       "    <tr>\n",
       "      <th>11</th>\n",
       "      <td>/home/data_ming/imagesiamese/picture/178ai95Ep...</td>\n",
       "      <td>/home/data_ming/imagesiamese/picture/15S6zVXHz...</td>\n",
       "      <td>0.0</td>\n",
       "    </tr>\n",
       "    <tr>\n",
       "      <th>12</th>\n",
       "      <td>/home/data_ming/imagesiamese/picture/16JMTmySx...</td>\n",
       "      <td>/home/data_ming/imagesiamese/crop/15QMNlHabZe_...</td>\n",
       "      <td>0.0</td>\n",
       "    </tr>\n",
       "    <tr>\n",
       "      <th>13</th>\n",
       "      <td>/home/data_ming/imagesiamese/dataset_base/16JM...</td>\n",
       "      <td>/home/data_ming/imagesiamese/dataset_pair/16JM...</td>\n",
       "      <td>1.0</td>\n",
       "    </tr>\n",
       "    <tr>\n",
       "      <th>14</th>\n",
       "      <td>/home/data_ming/imagesiamese/picture/15QTCk5h3...</td>\n",
       "      <td>/home/data_ming/imagesiamese/crop/15QTCk5h3YA_...</td>\n",
       "      <td>1.0</td>\n",
       "    </tr>\n",
       "    <tr>\n",
       "      <th>15</th>\n",
       "      <td>/home/data_ming/imagesiamese/picture/15PcT7zbu...</td>\n",
       "      <td>/home/data_ming/imagesiamese/picture/16ZS2bRlD...</td>\n",
       "      <td>0.0</td>\n",
       "    </tr>\n",
       "    <tr>\n",
       "      <th>16</th>\n",
       "      <td>/home/data_ming/imagesiamese/dataset_base/15Sv...</td>\n",
       "      <td>/home/data_ming/imagesiamese/dataset_pair/16Mz...</td>\n",
       "      <td>0.0</td>\n",
       "    </tr>\n",
       "    <tr>\n",
       "      <th>17</th>\n",
       "      <td>/home/data_ming/imagesiamese/dataset_base/15Sv...</td>\n",
       "      <td>/home/data_ming/imagesiamese/dataset_pair/16JT...</td>\n",
       "      <td>0.0</td>\n",
       "    </tr>\n",
       "    <tr>\n",
       "      <th>18</th>\n",
       "      <td>/home/data_ming/imagesiamese/dataset_base/16JK...</td>\n",
       "      <td>/home/data_ming/imagesiamese/dataset_pair/16JK...</td>\n",
       "      <td>1.0</td>\n",
       "    </tr>\n",
       "    <tr>\n",
       "      <th>19</th>\n",
       "      <td>/home/data_ming/imagesiamese/picture/15QRCMdbf...</td>\n",
       "      <td>/home/data_ming/imagesiamese/crop/15QRCMdbfX2_...</td>\n",
       "      <td>1.0</td>\n",
       "    </tr>\n",
       "  </tbody>\n",
       "</table>\n",
       "</div>"
      ],
      "text/plain": [
       "                                           base_image  \\\n",
       "0   /home/data_ming/imagesiamese/dataset_base/16Mz...   \n",
       "1   /home/data_ming/imagesiamese/dataset_base/16TM...   \n",
       "2   /home/data_ming/imagesiamese/dataset_base/16JP...   \n",
       "3   /home/data_ming/imagesiamese/dataset_base/168M...   \n",
       "4   /home/data_ming/imagesiamese/picture/15P7TG7ms...   \n",
       "5   /home/data_ming/imagesiamese/picture/15S6zSOHb...   \n",
       "6   /home/data_ming/imagesiamese/picture/15S7bAmxL...   \n",
       "7   /home/data_ming/imagesiamese/picture/16K4qQQG9...   \n",
       "8   /home/data_ming/imagesiamese/picture/15Sv0Oen0...   \n",
       "9   /home/data_ming/imagesiamese/dataset_base/16JV...   \n",
       "10  /home/data_ming/imagesiamese/picture/15QSCSqgK...   \n",
       "11  /home/data_ming/imagesiamese/picture/178ai95Ep...   \n",
       "12  /home/data_ming/imagesiamese/picture/16JMTmySx...   \n",
       "13  /home/data_ming/imagesiamese/dataset_base/16JM...   \n",
       "14  /home/data_ming/imagesiamese/picture/15QTCk5h3...   \n",
       "15  /home/data_ming/imagesiamese/picture/15PcT7zbu...   \n",
       "16  /home/data_ming/imagesiamese/dataset_base/15Sv...   \n",
       "17  /home/data_ming/imagesiamese/dataset_base/15Sv...   \n",
       "18  /home/data_ming/imagesiamese/dataset_base/16JK...   \n",
       "19  /home/data_ming/imagesiamese/picture/15QRCMdbf...   \n",
       "\n",
       "                                           pair_image  label  \n",
       "0   /home/data_ming/imagesiamese/dataset_pair/16JL...    0.0  \n",
       "1   /home/data_ming/imagesiamese/dataset_pair/178a...    0.0  \n",
       "2   /home/data_ming/imagesiamese/dataset_pair/178a...    0.0  \n",
       "3   /home/data_ming/imagesiamese/dataset_pair/16K2...    0.0  \n",
       "4   /home/data_ming/imagesiamese/crop/15R0IK7j0c0_...    0.0  \n",
       "5   /home/data_ming/imagesiamese/crop/15S6zSOHb4k_...    1.0  \n",
       "6   /home/data_ming/imagesiamese/crop/15S7bAmxL0I_...    1.0  \n",
       "7   /home/data_ming/imagesiamese/crop/16K4qQQG9kk_...    1.0  \n",
       "8   /home/data_ming/imagesiamese/picture/15SvdPllp...    0.0  \n",
       "9   /home/data_ming/imagesiamese/dataset_pair/16Wy...    0.0  \n",
       "10  /home/data_ming/imagesiamese/crop/15R0IMJ6mkM_...    0.0  \n",
       "11  /home/data_ming/imagesiamese/picture/15S6zVXHz...    0.0  \n",
       "12  /home/data_ming/imagesiamese/crop/15QMNlHabZe_...    0.0  \n",
       "13  /home/data_ming/imagesiamese/dataset_pair/16JM...    1.0  \n",
       "14  /home/data_ming/imagesiamese/crop/15QTCk5h3YA_...    1.0  \n",
       "15  /home/data_ming/imagesiamese/picture/16ZS2bRlD...    0.0  \n",
       "16  /home/data_ming/imagesiamese/dataset_pair/16Mz...    0.0  \n",
       "17  /home/data_ming/imagesiamese/dataset_pair/16JT...    0.0  \n",
       "18  /home/data_ming/imagesiamese/dataset_pair/16JK...    1.0  \n",
       "19  /home/data_ming/imagesiamese/crop/15QRCMdbfX2_...    1.0  "
      ]
     },
     "execution_count": 22,
     "metadata": {},
     "output_type": "execute_result"
    }
   ],
   "source": [
    "image_data.head(20)"
   ]
  },
  {
   "cell_type": "code",
   "execution_count": 23,
   "id": "several-badge",
   "metadata": {},
   "outputs": [
    {
     "name": "stdout",
     "output_type": "stream",
     "text": [
      "Examples:    Total: 3253     Positive: 1277 (39.26% of total)\n",
      "\n"
     ]
    }
   ],
   "source": [
    "neg, pos = np.bincount(image_data['label'])\n",
    "total = neg + pos\n",
    "print('Examples:    Total: {}     Positive: {} ({:.2f}% of total)\\n'.format(total, pos, 100 * pos / total))"
   ]
  },
  {
   "cell_type": "code",
   "execution_count": 24,
   "id": "prepared-calendar",
   "metadata": {},
   "outputs": [],
   "source": [
    "def preprocess_image(filename):\n",
    "    image_string = tf.io.read_file(filename)\n",
    "    image = tf.image.decode_image(image_string, channels=3)\n",
    "    image = tf.image.resize(image, target_shape)\n",
    "    image = tf.image.convert_image_dtype(image, tf.float32)\n",
    "    return image.numpy()"
   ]
  },
  {
   "cell_type": "code",
   "execution_count": 25,
   "id": "sacred-closure",
   "metadata": {},
   "outputs": [],
   "source": [
    "target_shape = (350,350)\n",
    "x_train_1,x_train_2,labels = [],[],[] \n",
    "for idx,row in image_data.iterrows():\n",
    "    base_image = row['base_image']\n",
    "    pair_image = row['pair_image']\n",
    "    label = float(row['label'])\n",
    "    if 'gif'not in base_image  and 'gif' not in pair_image:\n",
    "        base_image_resized = preprocess_image(base_image)\n",
    "        pair_image_resized = preprocess_image(pair_image)\n",
    "        x_train_1 += [base_image_resized]\n",
    "        x_train_2 += [pair_image_resized]\n",
    "        labels += [label]\n",
    "    else:\n",
    "        print('0')\n",
    "        pass"
   ]
  },
  {
   "cell_type": "code",
   "execution_count": 26,
   "id": "robust-shame",
   "metadata": {},
   "outputs": [
    {
     "data": {
      "text/plain": [
       "3253"
      ]
     },
     "execution_count": 26,
     "metadata": {},
     "output_type": "execute_result"
    }
   ],
   "source": [
    "len(labels)"
   ]
  },
  {
   "cell_type": "code",
   "execution_count": 27,
   "id": "foreign-anthony",
   "metadata": {},
   "outputs": [
    {
     "data": {
      "text/plain": [
       "3253"
      ]
     },
     "execution_count": 27,
     "metadata": {},
     "output_type": "execute_result"
    }
   ],
   "source": [
    "len(x_train_1)"
   ]
  },
  {
   "cell_type": "code",
   "execution_count": 28,
   "id": "senior-january",
   "metadata": {},
   "outputs": [],
   "source": [
    "labels_train  = np.array(labels)"
   ]
  },
  {
   "cell_type": "code",
   "execution_count": 29,
   "id": "quarterly-watch",
   "metadata": {},
   "outputs": [
    {
     "data": {
      "text/plain": [
       "(3253,)"
      ]
     },
     "execution_count": 29,
     "metadata": {},
     "output_type": "execute_result"
    }
   ],
   "source": [
    "labels_train.shape"
   ]
  },
  {
   "cell_type": "code",
   "execution_count": 30,
   "id": "derived-preference",
   "metadata": {},
   "outputs": [],
   "source": [
    "x_train_1 = np.array(x_train_1)\n",
    "x_train_2 = np.array(x_train_2)"
   ]
  },
  {
   "cell_type": "code",
   "execution_count": 31,
   "id": "blocked-huntington",
   "metadata": {},
   "outputs": [
    {
     "data": {
      "text/plain": [
       "((3253, 350, 350, 3), (3253, 350, 350, 3))"
      ]
     },
     "execution_count": 31,
     "metadata": {},
     "output_type": "execute_result"
    }
   ],
   "source": [
    "x_train_1.shape,x_train_2.shape"
   ]
  },
  {
   "cell_type": "code",
   "execution_count": 32,
   "id": "reasonable-outreach",
   "metadata": {},
   "outputs": [],
   "source": [
    "def euclidean_distance(vects):\n",
    "    x, y = vects\n",
    "    sum_square = tf.math.reduce_sum(tf.math.square(x - y), axis=1, keepdims=True)\n",
    "    return tf.math.sqrt(tf.math.maximum(sum_square, tf.keras.backend.epsilon()))\n",
    "\n",
    "\n",
    "from tensorflow.keras.applications.resnet50 import ResNet50\n",
    "base_model = ResNet50(input_shape=(target_shape[0], target_shape[1], 3),include_top=False, pooling=\"avg\",weights=\"/home/data_ming/imagesiamese/resnet50_weights_tf_dim_ordering_tf_kernels_notop.h5\",)\n",
    "\n",
    "trainable = False\n",
    "for layer in base_model.layers:\n",
    "    if layer.name == \"conv5_block1_out\":\n",
    "        trainable = True\n",
    "    layer.trainable = trainable\n",
    "    \n",
    "flatten = layers.Flatten()(base_model.output)\n",
    "dense1 = layers.Dense(512, activation=\"relu\")(flatten)\n",
    "dense1 = layers.BatchNormalization()(dense1)\n",
    "dense2 = layers.Dense(256, activation=\"relu\")(dense1)\n",
    "dense2 = layers.BatchNormalization()(dense2)\n",
    "output = layers.Dense(256)(dense2)\n",
    "\n",
    "embedding_network = keras.Model(base_model.input, output)\n",
    "input_1 = layers.Input((target_shape[0], target_shape[1], 3),name='inputimage_1')\n",
    "input_2 = layers.Input((target_shape[0], target_shape[1], 3),name='inputimage_2')\n",
    "\n",
    "tower_1 = embedding_network(input_1)\n",
    "tower_2 = embedding_network(input_2)\n",
    "\n",
    "merge_layer = layers.Lambda(euclidean_distance)([tower_1, tower_2])\n",
    "normal_layer = tf.keras.layers.BatchNormalization()(merge_layer)\n",
    "output_layer = layers.Dense(1, activation=\"sigmoid\")(normal_layer)\n",
    "siamese = keras.Model(inputs=[input_1,input_2], outputs=output_layer)"
   ]
  },
  {
   "cell_type": "code",
   "execution_count": 33,
   "id": "freelance-fields",
   "metadata": {},
   "outputs": [],
   "source": [
    "def loss(margin=1):\n",
    "    def contrastive_loss(y_true, y_pred):\n",
    "        square_pred = tf.math.square(y_pred)\n",
    "        margin_square = tf.math.square(tf.math.maximum(margin - (y_pred), 0))\n",
    "        return tf.math.reduce_mean((1 - y_true) * square_pred + (y_true) * margin_square)\n",
    "    return contrastive_loss"
   ]
  },
  {
   "cell_type": "code",
   "execution_count": 34,
   "id": "hourly-norfolk",
   "metadata": {},
   "outputs": [],
   "source": [
    "epochs = 10\n",
    "batch_size = 32\n",
    "margin = 1  # Margin for constrastive loss."
   ]
  },
  {
   "cell_type": "code",
   "execution_count": 35,
   "id": "painted-administrator",
   "metadata": {},
   "outputs": [
    {
     "name": "stdout",
     "output_type": "stream",
     "text": [
      "Model: \"model_1\"\n",
      "__________________________________________________________________________________________________\n",
      " Layer (type)                   Output Shape         Param #     Connected to                     \n",
      "==================================================================================================\n",
      " inputimage_1 (InputLayer)      [(None, 350, 350, 3  0           []                               \n",
      "                                )]                                                                \n",
      "                                                                                                  \n",
      " inputimage_2 (InputLayer)      [(None, 350, 350, 3  0           []                               \n",
      "                                )]                                                                \n",
      "                                                                                                  \n",
      " model (Functional)             (None, 256)          24836992    ['inputimage_1[0][0]',           \n",
      "                                                                  'inputimage_2[0][0]']           \n",
      "                                                                                                  \n",
      " lambda (Lambda)                (None, 1)            0           ['model[0][0]',                  \n",
      "                                                                  'model[1][0]']                  \n",
      "                                                                                                  \n",
      " batch_normalization_2 (BatchNo  (None, 1)           4           ['lambda[0][0]']                 \n",
      " rmalization)                                                                                     \n",
      "                                                                                                  \n",
      " dense_3 (Dense)                (None, 1)            2           ['batch_normalization_2[0][0]']  \n",
      "                                                                                                  \n",
      "==================================================================================================\n",
      "Total params: 24,836,998\n",
      "Trainable params: 10,179,076\n",
      "Non-trainable params: 14,657,922\n",
      "__________________________________________________________________________________________________\n"
     ]
    }
   ],
   "source": [
    "siamese.compile(loss=loss(margin=margin), optimizer=\"RMSprop\", metrics=[\"accuracy\"])\n",
    "siamese.summary()"
   ]
  },
  {
   "cell_type": "code",
   "execution_count": 36,
   "id": "regulation-intranet",
   "metadata": {},
   "outputs": [
    {
     "name": "stdout",
     "output_type": "stream",
     "text": [
      "Epoch 1/10\n",
      "102/102 [==============================] - 460s 4s/step - loss: 0.0869 - accuracy: 0.9026\n",
      "Epoch 2/10\n",
      "102/102 [==============================] - 459s 4s/step - loss: 0.0560 - accuracy: 0.9551\n",
      "Epoch 3/10\n",
      "102/102 [==============================] - 461s 5s/step - loss: 0.0369 - accuracy: 0.9745\n",
      "Epoch 4/10\n",
      "102/102 [==============================] - 464s 5s/step - loss: 0.0253 - accuracy: 0.9859\n",
      "Epoch 5/10\n",
      "102/102 [==============================] - 451s 4s/step - loss: 0.0177 - accuracy: 0.9895\n",
      "Epoch 6/10\n",
      "102/102 [==============================] - 445s 4s/step - loss: 0.0141 - accuracy: 0.9911\n",
      "Epoch 7/10\n",
      "102/102 [==============================] - 457s 4s/step - loss: 0.0097 - accuracy: 0.9942\n",
      "Epoch 8/10\n",
      "102/102 [==============================] - 456s 4s/step - loss: 0.0075 - accuracy: 0.9963\n",
      "Epoch 9/10\n",
      "102/102 [==============================] - 463s 5s/step - loss: 0.0062 - accuracy: 0.9978\n",
      "Epoch 10/10\n",
      "102/102 [==============================] - 447s 4s/step - loss: 0.0050 - accuracy: 0.9975\n"
     ]
    }
   ],
   "source": [
    "history = siamese.fit(\n",
    "    [x_train_1, x_train_2],\n",
    "    labels_train,\n",
    "    #validation_data=([x_val_1, x_val_2], labels_val),\n",
    "    batch_size=batch_size,\n",
    "    epochs=epochs,\n",
    ")"
   ]
  },
  {
   "cell_type": "code",
   "execution_count": null,
   "id": "strategic-verification",
   "metadata": {},
   "outputs": [],
   "source": [
    "#base64"
   ]
  },
  {
   "cell_type": "code",
   "execution_count": 98,
   "id": "indirect-serbia",
   "metadata": {},
   "outputs": [],
   "source": [
    "def preprocess_input(base64_input_bytes):\n",
    "    def decode_bytes(img_bytes):\n",
    "        img = tf.image.decode_jpeg(img_bytes, channels=3)\n",
    "        img = tf.image.resize(img,target_shape)\n",
    "        img = tf.image.convert_image_dtype(img, tf.float32)\n",
    "        return img\n",
    "    base64_input_bytes = tf.reshape(base64_input_bytes, (-1,))\n",
    "    return tf.map_fn(lambda img_bytes: decode_bytes(img_bytes),elems=base64_input_bytes,fn_output_signature=tf.float32)"
   ]
  },
  {
   "cell_type": "code",
   "execution_count": 99,
   "id": "successful-danger",
   "metadata": {},
   "outputs": [
    {
     "data": {
      "text/plain": [
       "TensorShape([None, 350, 350, 3])"
      ]
     },
     "execution_count": 99,
     "metadata": {},
     "output_type": "execute_result"
    }
   ],
   "source": [
    "serving_inputs = tf.keras.layers.Input(shape=(), dtype=tf.string, name='b64_input_bytes')\n",
    "serving_x = tf.keras.layers.Lambda(preprocess_input, name='decode_image_bytes')(serving_inputs)\n",
    "serving_x.shape"
   ]
  },
  {
   "cell_type": "code",
   "execution_count": 100,
   "id": "cultural-portal",
   "metadata": {},
   "outputs": [
    {
     "name": "stdout",
     "output_type": "stream",
     "text": [
      "INFO:tensorflow:Assets written to: ./imagesiamese350base64/assets\n"
     ]
    }
   ],
   "source": [
    "input_image_1 = tf.expand_dims(serving_x[0],axis =0)\n",
    "input_image_2 = tf.expand_dims(serving_x[1],axis =0)\n",
    "serving_output = siamese([input_image_1,input_image_2])\n",
    "serving_model = tf.keras.Model(serving_inputs, serving_output)\n",
    "tf.saved_model.save(serving_model, './imagesiamese350base64')"
   ]
  },
  {
   "cell_type": "code",
   "execution_count": null,
   "id": "packed-fiber",
   "metadata": {},
   "outputs": [],
   "source": []
  },
  {
   "cell_type": "code",
   "execution_count": null,
   "id": "worst-hardware",
   "metadata": {},
   "outputs": [],
   "source": []
  },
  {
   "cell_type": "code",
   "execution_count": null,
   "id": "optimum-target",
   "metadata": {},
   "outputs": [],
   "source": []
  },
  {
   "cell_type": "code",
   "execution_count": null,
   "id": "straight-subsection",
   "metadata": {},
   "outputs": [],
   "source": []
  },
  {
   "cell_type": "code",
   "execution_count": null,
   "id": "current-behavior",
   "metadata": {},
   "outputs": [],
   "source": []
  },
  {
   "cell_type": "code",
   "execution_count": null,
   "id": "funny-support",
   "metadata": {},
   "outputs": [],
   "source": [
    "# def preprocess_input(base64_input_bytes):\n",
    "#     def decode_bytes(img_bytes):\n",
    "#         img = tf.image.decode_jpeg(img_bytes, channels=3)\n",
    "#         img = tf.image.resize(img,target_shape)\n",
    "#         img = tf.image.convert_image_dtype(img, tf.float32)\n",
    "#         return img\n",
    "#     base64_input_bytes = tf.reshape(base64_input_bytes, (-1,))\n",
    "#     return tf.map_fn(lambda img_bytes: decode_bytes(img_bytes),elems=base64_input_bytes,fn_output_signature=tf.float32)"
   ]
  },
  {
   "cell_type": "code",
   "execution_count": null,
   "id": "latin-discount",
   "metadata": {},
   "outputs": [],
   "source": [
    "# serving_inputs = tf.keras.layers.Input(shape=(), dtype=tf.string, name='b64_input_bytes')\n",
    "# serving_x = tf.keras.layers.Lambda(preprocess_input, name='decode_image_bytes')(serving_inputs)\n",
    "# serving_x.shape"
   ]
  },
  {
   "cell_type": "code",
   "execution_count": null,
   "id": "innovative-native",
   "metadata": {},
   "outputs": [],
   "source": [
    "# input_image_1 = tf.expand_dims(serving_x[0],axis =0)\n",
    "# input_image_2 = tf.expand_dims(serving_x[1],axis =0)\n",
    "# serving_output = siamese([input_image_1,input_image_2])\n",
    "# serving_model = tf.keras.Model(serving_inputs, serving_output)\n",
    "# tf.saved_model.save(serving_model, './imagesimilaritybase64')"
   ]
  },
  {
   "cell_type": "code",
   "execution_count": null,
   "id": "available-wrestling",
   "metadata": {},
   "outputs": [],
   "source": []
  },
  {
   "cell_type": "code",
   "execution_count": null,
   "id": "enabling-evanescence",
   "metadata": {},
   "outputs": [],
   "source": []
  },
  {
   "cell_type": "code",
   "execution_count": null,
   "id": "bound-dependence",
   "metadata": {},
   "outputs": [],
   "source": []
  },
  {
   "cell_type": "code",
   "execution_count": 92,
   "id": "opened-nature",
   "metadata": {},
   "outputs": [],
   "source": [
    "pairs_test=[]\n",
    "labels_test=[]\n",
    "target_shape = (350, 350)\n",
    "test1_1 = '/home/data_ming/imagesiamese/picture/15SxzmGu6Qw.jpg'\n",
    "test1_2 = '/home/data_ming/imagesiamese/picture/15Sxzl8g6OI.jpg'\n",
    "# test2_1 = '/home/data_ming/imagesiamese/test/test1/test2.jpg'\n",
    "# test2_2 = '/home/data_ming/imagesiamese/test/test2/test2.jpg'\n",
    "# test3_1 = '/home/data_ming/imagesiamese/test/test1/test3.jpg'http://pic5.40017.cn/i/ori/16JMTmySxW0.jpg http://pic5.40017.cn/i/ori/16JMTo5YgU0.jpg\n",
    "# test3_2 = '/home/data_ming/imagesiamese/test/test2/test3.jpg'\n",
    "img_test1_1= preprocess_image(test1_1)\n",
    "img_test1_2= preprocess_image(test1_2)\n",
    "# img_test2_1= preprocess_image(test2_1)\n",
    "# img_test2_2= preprocess_image(test2_2)\n",
    "# img_test3_1= preprocess_image(test3_1)\n",
    "# img_test3_2= preprocess_image(test3_2)\n",
    "pairs_test += [[img_test1_1, img_test1_2]]\n",
    "labels_test += [1]\n",
    "# pairs_test += [[img_test2_1, img_test2_2]]\n",
    "# labels_test += [1]\n",
    "# pairs_test += [[img_test3_1, img_test3_2]]\n",
    "# labels_test += [0]\n",
    "pairs_test = np.array(pairs_test)\n",
    "labels_test=np.array(labels_test).astype(\"float32\")"
   ]
  },
  {
   "cell_type": "code",
   "execution_count": 93,
   "id": "marine-choir",
   "metadata": {},
   "outputs": [
    {
     "data": {
      "text/plain": [
       "(1, 350, 350, 3)"
      ]
     },
     "execution_count": 93,
     "metadata": {},
     "output_type": "execute_result"
    }
   ],
   "source": [
    "x_test_1=pairs_test[:,0]\n",
    "x_test_2=pairs_test[:,1]\n",
    "x_test_1.shape"
   ]
  },
  {
   "cell_type": "code",
   "execution_count": 94,
   "id": "polish-round",
   "metadata": {},
   "outputs": [
    {
     "name": "stdout",
     "output_type": "stream",
     "text": [
      "1/1 [==============================] - 0s 168ms/step - loss: 5.6850e-05 - accuracy: 1.0000\n",
      "test loss, test acc: [5.684961433871649e-05, 1.0]\n",
      "[[0.99246013]]\n"
     ]
    }
   ],
   "source": [
    "results = siamese.evaluate([x_test_1, x_test_2], labels_test)\n",
    "print(\"test loss, test acc:\", results)\n",
    "print(siamese.predict([x_test_1, x_test_2]))"
   ]
  },
  {
   "cell_type": "code",
   "execution_count": 95,
   "id": "controlling-seminar",
   "metadata": {},
   "outputs": [],
   "source": [
    "def visualize(pairs, labels, to_show=6, num_col=2, predictions=None, test=False):\n",
    "    num_row = to_show // num_col if to_show // num_col != 0 else 1\n",
    "    to_show = num_row * num_col\n",
    "    fig, axes = plt.subplots(num_row, num_col, figsize=(5, 5))\n",
    "    for i in range(to_show):\n",
    "\n",
    "        # If the number of rows is 1, the axes array is one-dimensional\n",
    "        if num_row == 1:\n",
    "            ax = axes[i % num_col]\n",
    "        else:\n",
    "            ax = axes[i // num_col, i % num_col]\n",
    "\n",
    "        ax.imshow(tf.concat([pairs[i][0], pairs[i][1]], axis=1), cmap=\"gray\")\n",
    "        ax.set_axis_off()\n",
    "        if test:\n",
    "            ax.set_title(\"True: {} | Pred: {:.5f}\".format(labels[i], predictions[i][0]))\n",
    "        else:\n",
    "            ax.set_title(\"Label: {}\".format(labels[i]))\n",
    "    if test:\n",
    "        plt.tight_layout(rect=(0, 0, 1.9, 1.9), w_pad=0.0)\n",
    "    else:\n",
    "        plt.tight_layout(rect=(0, 0, 1.5, 1.5))\n",
    "    plt.show()"
   ]
  },
  {
   "cell_type": "code",
   "execution_count": 96,
   "id": "brazilian-convergence",
   "metadata": {},
   "outputs": [
    {
     "name": "stderr",
     "output_type": "stream",
     "text": [
      "Clipping input data to the valid range for imshow with RGB data ([0..1] for floats or [0..255] for integers).\n"
     ]
    },
    {
     "ename": "IndexError",
     "evalue": "index 1 is out of bounds for axis 0 with size 1",
     "output_type": "error",
     "traceback": [
      "\u001b[0;31m---------------------------------------------------------------------------\u001b[0m",
      "\u001b[0;31mIndexError\u001b[0m                                Traceback (most recent call last)",
      "\u001b[0;32m<ipython-input-96-27be831fef14>\u001b[0m in \u001b[0;36m<module>\u001b[0;34m\u001b[0m\n\u001b[1;32m      1\u001b[0m \u001b[0mpredictions\u001b[0m \u001b[0;34m=\u001b[0m \u001b[0msiamese\u001b[0m\u001b[0;34m.\u001b[0m\u001b[0mpredict\u001b[0m\u001b[0;34m(\u001b[0m\u001b[0;34m[\u001b[0m\u001b[0mx_test_1\u001b[0m\u001b[0;34m,\u001b[0m \u001b[0mx_test_2\u001b[0m\u001b[0;34m]\u001b[0m\u001b[0;34m)\u001b[0m\u001b[0;34m\u001b[0m\u001b[0;34m\u001b[0m\u001b[0m\n\u001b[0;32m----> 2\u001b[0;31m \u001b[0mvisualize\u001b[0m\u001b[0;34m(\u001b[0m\u001b[0mpairs_test\u001b[0m\u001b[0;34m,\u001b[0m \u001b[0mlabels_test\u001b[0m\u001b[0;34m,\u001b[0m \u001b[0mto_show\u001b[0m\u001b[0;34m=\u001b[0m\u001b[0;36m1\u001b[0m\u001b[0;34m,\u001b[0m \u001b[0mpredictions\u001b[0m\u001b[0;34m=\u001b[0m\u001b[0mpredictions\u001b[0m\u001b[0;34m,\u001b[0m \u001b[0mtest\u001b[0m\u001b[0;34m=\u001b[0m\u001b[0;32mTrue\u001b[0m\u001b[0;34m)\u001b[0m\u001b[0;34m\u001b[0m\u001b[0;34m\u001b[0m\u001b[0m\n\u001b[0m",
      "\u001b[0;32m<ipython-input-95-ef746c2c27be>\u001b[0m in \u001b[0;36mvisualize\u001b[0;34m(pairs, labels, to_show, num_col, predictions, test)\u001b[0m\n\u001b[1;32m     11\u001b[0m             \u001b[0max\u001b[0m \u001b[0;34m=\u001b[0m \u001b[0maxes\u001b[0m\u001b[0;34m[\u001b[0m\u001b[0mi\u001b[0m \u001b[0;34m//\u001b[0m \u001b[0mnum_col\u001b[0m\u001b[0;34m,\u001b[0m \u001b[0mi\u001b[0m \u001b[0;34m%\u001b[0m \u001b[0mnum_col\u001b[0m\u001b[0;34m]\u001b[0m\u001b[0;34m\u001b[0m\u001b[0;34m\u001b[0m\u001b[0m\n\u001b[1;32m     12\u001b[0m \u001b[0;34m\u001b[0m\u001b[0m\n\u001b[0;32m---> 13\u001b[0;31m         \u001b[0max\u001b[0m\u001b[0;34m.\u001b[0m\u001b[0mimshow\u001b[0m\u001b[0;34m(\u001b[0m\u001b[0mtf\u001b[0m\u001b[0;34m.\u001b[0m\u001b[0mconcat\u001b[0m\u001b[0;34m(\u001b[0m\u001b[0;34m[\u001b[0m\u001b[0mpairs\u001b[0m\u001b[0;34m[\u001b[0m\u001b[0mi\u001b[0m\u001b[0;34m]\u001b[0m\u001b[0;34m[\u001b[0m\u001b[0;36m0\u001b[0m\u001b[0;34m]\u001b[0m\u001b[0;34m,\u001b[0m \u001b[0mpairs\u001b[0m\u001b[0;34m[\u001b[0m\u001b[0mi\u001b[0m\u001b[0;34m]\u001b[0m\u001b[0;34m[\u001b[0m\u001b[0;36m1\u001b[0m\u001b[0;34m]\u001b[0m\u001b[0;34m]\u001b[0m\u001b[0;34m,\u001b[0m \u001b[0maxis\u001b[0m\u001b[0;34m=\u001b[0m\u001b[0;36m1\u001b[0m\u001b[0;34m)\u001b[0m\u001b[0;34m,\u001b[0m \u001b[0mcmap\u001b[0m\u001b[0;34m=\u001b[0m\u001b[0;34m\"gray\"\u001b[0m\u001b[0;34m)\u001b[0m\u001b[0;34m\u001b[0m\u001b[0;34m\u001b[0m\u001b[0m\n\u001b[0m\u001b[1;32m     14\u001b[0m         \u001b[0max\u001b[0m\u001b[0;34m.\u001b[0m\u001b[0mset_axis_off\u001b[0m\u001b[0;34m(\u001b[0m\u001b[0;34m)\u001b[0m\u001b[0;34m\u001b[0m\u001b[0;34m\u001b[0m\u001b[0m\n\u001b[1;32m     15\u001b[0m         \u001b[0;32mif\u001b[0m \u001b[0mtest\u001b[0m\u001b[0;34m:\u001b[0m\u001b[0;34m\u001b[0m\u001b[0;34m\u001b[0m\u001b[0m\n",
      "\u001b[0;31mIndexError\u001b[0m: index 1 is out of bounds for axis 0 with size 1"
     ]
    },
    {
     "data": {
      "image/png": "[encoded data removed]",
      "text/plain": [
       "<Figure size 360x360 with 2 Axes>"
      ]
     },
     "metadata": {
      "needs_background": "light"
     },
     "output_type": "display_data"
    }
   ],
   "source": [
    "predictions = siamese.predict([x_test_1, x_test_2])\n",
    "visualize(pairs_test, labels_test, to_show=1, predictions=predictions, test=True)"
   ]
  },
  {
   "cell_type": "code",
   "execution_count": null,
   "id": "treated-colleague",
   "metadata": {},
   "outputs": [],
   "source": []
  },
  {
   "cell_type": "code",
   "execution_count": null,
   "id": "arbitrary-checkout",
   "metadata": {},
   "outputs": [],
   "source": [
    "15QTwxMo79n.jpg'\n",
    "image2_URL = 'http://pic5.40017.cn/i/ori/15QTwyNp55K.jpg"
   ]
  }
 ],
 "metadata": {
  "kernelspec": {
   "display_name": "PySpark",
   "language": "python",
   "name": "pyspark"
  },
  "language_info": {
   "codemirror_mode": {
    "name": "ipython",
    "version": 3
   },
   "file_extension": ".py",
   "mimetype": "text/x-python",
   "name": "python",
   "nbconvert_exporter": "python",
   "pygments_lexer": "ipython3",
   "version": "3.7.10"
  }
 },
 "nbformat": 4,
 "nbformat_minor": 5
}
